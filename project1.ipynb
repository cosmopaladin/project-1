{
 "cells": [
  {
   "cell_type": "code",
   "execution_count": 72,
   "metadata": {},
   "outputs": [],
   "source": [
    "import pandas as pd\n",
    "import numpy as np\n",
    "import matplotlib.pyplot as plt\n",
    "from pathlib import Path\n",
    "import warnings\n",
    "pd.set_option('display.float_format', '{:.7f}'.format)\n",
    "pd.set_option('display.max_columns', 200)\n",
    "warnings.filterwarnings(\"ignore\")"
   ]
  },
  {
   "cell_type": "markdown",
   "metadata": {},
   "source": [
    "### State GDP"
   ]
  },
  {
   "cell_type": "code",
   "execution_count": 73,
   "metadata": {},
   "outputs": [],
   "source": [
    "gdp_state = pd.read_csv('Data/USGDP_1997_2020.csv')\n",
    "\n",
    "gdp_state = gdp_state[gdp_state.GeoName != 'United States *']\n",
    "gdp_state = gdp_state.loc[gdp_state['Description'] == 'All industry total']\n",
    "gdp_state = gdp_state.drop(['IndustryClassification', 'Description', 'LineCode', 'TableName'], axis=1).reset_index(drop=True)\n",
    "gdp_state = gdp_state.iloc[:-8, :]\n",
    "for year in range(1997, 2021):\n",
    "    gdp_state[str(year)] = pd.to_numeric(gdp_state[str(year)])\n",
    "\n",
    "# toggle info views\n",
    "# gdp_state.head()\n",
    "# gdp_state.info()\n",
    "# gdp_state.isna().sum()\n",
    "\n",
    "# gdp_state.head()"
   ]
  },
  {
   "cell_type": "markdown",
   "metadata": {},
   "source": [
    "### Airline Flights DF"
   ]
  },
  {
   "cell_type": "code",
   "execution_count": 74,
   "metadata": {},
   "outputs": [],
   "source": [
    "airline_flights = pd.read_csv('Data/US Airline Flight Routes and Fares 1993-2024 2.csv')\n",
    "airline_flights.sort_values(by=['Year', 'quarter'], ascending=[True, True], inplace=True)\n",
    "# airline_flights.shape\n",
    "\n",
    "# airline_flights.head()"
   ]
  },
  {
   "cell_type": "code",
   "execution_count": 75,
   "metadata": {},
   "outputs": [],
   "source": [
    "airline_flights.rename(columns={\n",
    "    'quarter': 'Quarter',\n",
    "    'city1': 'Origin_City_Name',\n",
    "    'city2': 'Destination_City_Name',\n",
    "    'airportid_1': 'Origin_Airport_ID',\n",
    "    'airportid_2': 'Destination_Airport_ID',\n",
    "    'airport_1': 'Origin_Airport_Code',\n",
    "    'airport_2': 'Destination_Airport_Code',\n",
    "    'nsmiles': 'Distance_Between_Airports',\n",
    "    'passengers': 'Num_Passengers',\n",
    "    'fare': 'Average_Fare',\n",
    "}, inplace=True)"
   ]
  },
  {
   "cell_type": "code",
   "execution_count": 76,
   "metadata": {},
   "outputs": [],
   "source": [
    "airline_flights = airline_flights[[\n",
    "                  #  'tbl', \n",
    "                  'Year', 'Quarter', \n",
    "                  #   'citymarketid_1', 'citymarketid_2',\n",
    "                  'Origin_City_Name', 'Destination_City_Name', 'Origin_Airport_ID', 'Destination_Airport_ID', 'Origin_Airport_Code',\n",
    "                  'Destination_Airport_Code', 'Distance_Between_Airports', 'Num_Passengers', 'Average_Fare',\n",
    "                  #   'carrier_lg', 'large_ms', 'fare_lg', 'carrier_low', 'lf_ms', 'fare_low',\n",
    "                  'Geocoded_City1', 'Geocoded_City2', \n",
    "                  #   'tbl1apk'\n",
    "                    ]].copy()"
   ]
  },
  {
   "cell_type": "code",
   "execution_count": 77,
   "metadata": {},
   "outputs": [],
   "source": [
    "airline_flights = airline_flights[~airline_flights['Year'].between(1993, 1996)]\n",
    "\n",
    "# Toggle to remove Metropolitan area\n",
    "airline_flights['Origin_City_Name'] = airline_flights['Origin_City_Name'].str.replace(r'\\s*\\(Metropolitan Area\\)', '', regex=True)\n",
    "airline_flights['Destination_City_Name'] = airline_flights['Destination_City_Name'].str.replace(r'\\s*\\(Metropolitan Area\\)', '', regex=True)\n",
    "\n",
    "airline_flights[['Destination_City', 'Destination_State']] = airline_flights['Destination_City_Name'].str.split(\", \", expand=True)\n",
    "airline_flights[['Origin_City', 'Origin_State']] = airline_flights['Origin_City_Name'].str.split(\", \", expand=True)\n",
    "\n",
    "# airline_flights.head()"
   ]
  },
  {
   "cell_type": "code",
   "execution_count": 78,
   "metadata": {},
   "outputs": [],
   "source": [
    "state_mapping = {\n",
    "    'AL': 'Alabama',\n",
    "    'AK': 'Alaska',\n",
    "    'AZ': 'Arizona',\n",
    "    'AR': 'Arkansas',\n",
    "    'CA': 'California',\n",
    "    'CO': 'Colorado',\n",
    "    'CT': 'Connecticut',\n",
    "    'DC': 'District of Columbia',\n",
    "    'DE': 'Delaware',\n",
    "    'FL': 'Florida',\n",
    "    'GA': 'Georgia',\n",
    "    'HI': 'Hawaii',\n",
    "    'ID': 'Idaho',\n",
    "    'IL': 'Illinois',\n",
    "    'IN': 'Indiana',\n",
    "    'IA': 'Iowa',\n",
    "    'KS': 'Kansas',\n",
    "    'KY': 'Kentucky',\n",
    "    'LA': 'Louisiana',\n",
    "    'ME': 'Maine',\n",
    "    'MD': 'Maryland',\n",
    "    'MA': 'Massachusetts',\n",
    "    'MI': 'Michigan',\n",
    "    'MN': 'Minnesota',\n",
    "    'MS': 'Mississippi',\n",
    "    'MO': 'Missouri',\n",
    "    'MT': 'Montana',\n",
    "    'NE': 'Nebraska',\n",
    "    'NV': 'Nevada',\n",
    "    'NH': 'New Hampshire',\n",
    "    'NJ': 'New Jersey',\n",
    "    'NM': 'New Mexico',\n",
    "    'NY': 'New York',\n",
    "    'NC': 'North Carolina',\n",
    "    'ND': 'North Dakota',\n",
    "    'OH': 'Ohio',\n",
    "    'OK': 'Oklahoma',\n",
    "    'OR': 'Oregon',\n",
    "    'PA': 'Pennsylvania',\n",
    "    'RI': 'Rhode Island',\n",
    "    'SC': 'South Carolina',\n",
    "    'SD': 'South Dakota',\n",
    "    'TN': 'Tennessee',\n",
    "    'TX': 'Texas',\n",
    "    'UT': 'Utah',\n",
    "    'VT': 'Vermont',\n",
    "    'VA': 'Virginia',\n",
    "    'WA': 'Washington',\n",
    "    'WV': 'West Virginia',\n",
    "    'WI': 'Wisconsin',\n",
    "    'WY': 'Wyoming'\n",
    "}\n",
    "\n",
    "airline_flights = airline_flights.replace({\n",
    "    'Destination_State': state_mapping,\n",
    "    'Origin_State': state_mapping\n",
    "    })"
   ]
  },
  {
   "cell_type": "code",
   "execution_count": 79,
   "metadata": {},
   "outputs": [],
   "source": [
    "airline_flights = airline_flights.dropna()\n",
    "\n",
    "# airline_flights.head()"
   ]
  },
  {
   "cell_type": "code",
   "execution_count": 80,
   "metadata": {},
   "outputs": [
    {
     "data": {
      "text/plain": [
       "<Axes: ylabel='Destination_State'>"
      ]
     },
     "execution_count": 80,
     "metadata": {},
     "output_type": "execute_result"
    },
    {
     "data": {
      "image/png": "[encoded data removed]",
      "text/plain": [
       "<Figure size 640x480 with 1 Axes>"
      ]
     },
     "metadata": {},
     "output_type": "display_data"
    }
   ],
   "source": [
    "flights_2018 = airline_flights[airline_flights['Year'] == 2018]\n",
    "\n",
    "destination_counts = flights_2018['Destination_State'].value_counts()\n",
    "destination_counts_filtered = destination_counts[destination_counts > 80].sort_values(ascending=True)\n",
    "\n",
    "destination_counts_filtered.plot(kind='barh', color='skyblue')\n",
    "\n",
    "# plt.xlabel('Number of Flights')\n",
    "# plt.ylabel('Destination State')\n",
    "# plt.title('Number of Flights to Each State in 2018 (Min 80)')\n",
    "# plt.grid(True, alpha= 0.4)\n",
    "\n",
    "# plt.show()"
   ]
  },
  {
   "cell_type": "code",
   "execution_count": null,
   "metadata": {},
   "outputs": [],
   "source": [
    "flights_2018 = airline_flights[airline_flights['Year'] == 2018]\n",
    "\n",
    "origin_counts = flights_2018['Origin_State'].value_counts()\n",
    "origin_counts_filtered = origin_counts[origin_counts > 80].sort_values(ascending=True)\n",
    "\n",
    "\n",
    "origin_counts_filtered.plot(kind='barh', color='lightgreen')\n",
    "\n",
    "# plt.xlabel('Number of Flights')\n",
    "# plt.ylabel('Origin City')\n",
    "# plt.title('Number of Flights from Each State in 2018 (Min 80)')\n",
    "# plt.grid(True, alpha= 0.4)\n",
    "\n",
    "# plt.show()"
   ]
  },
  {
   "cell_type": "code",
   "execution_count": null,
   "metadata": {},
   "outputs": [],
   "source": [
    "fig, axes = plt.subplots(nrows=1, ncols=2, figsize=(16, 8))\n",
    "destination_counts_filtered.plot(kind='barh', ax=axes[0], color='skyblue')\n",
    "axes[0].set_xlabel('Number of Flights')\n",
    "axes[0].set_ylabel('Destination State')\n",
    "axes[0].set_title('Number of Flights to Each State in 2018 (Min 80)')\n",
    "axes[0].grid(True, alpha=0.5)\n",
    "\n",
    "\n",
    "origin_counts_filtered.plot(kind='barh', ax=axes[1], color='lightgreen')\n",
    "axes[1].set_xlabel('Number of Flights')\n",
    "axes[1].set_ylabel('Origin State')\n",
    "axes[1].set_title('Number of Flights from Each State in 2018 (Min 80)')\n",
    "axes[1].grid(True, alpha=0.5)\n",
    "\n",
    "# plt.tight_layout()\n",
    "# plt.show()"
   ]
  },
  {
   "cell_type": "markdown",
   "metadata": {},
   "source": [
    "### Combining GDP and Flights"
   ]
  },
  {
   "cell_type": "code",
   "execution_count": 83,
   "metadata": {},
   "outputs": [],
   "source": [
    "flights_2018 = airline_flights.loc[airline_flights.Year == 2018]"
   ]
  },
  {
   "cell_type": "code",
   "execution_count": 84,
   "metadata": {},
   "outputs": [],
   "source": [
    "state_counts_2018_des = pd.DataFrame(flights_2018['Destination_State'].value_counts()).reset_index()"
   ]
  },
  {
   "cell_type": "code",
   "execution_count": 85,
   "metadata": {},
   "outputs": [],
   "source": [
    "gdp_state_2018_des = gdp_state[['GeoName','2018']]\n",
    "gdp_state_2018_des.rename(columns={\n",
    "    'GeoName': 'Destination_State',\n",
    "}, inplace=True)"
   ]
  },
  {
   "cell_type": "code",
   "execution_count": 86,
   "metadata": {},
   "outputs": [
    {
     "data": {
      "text/html": [
       "<div>\n",
       "<style scoped>\n",
       "    .dataframe tbody tr th:only-of-type {\n",
       "        vertical-align: middle;\n",
       "    }\n",
       "\n",
       "    .dataframe tbody tr th {\n",
       "        vertical-align: top;\n",
       "    }\n",
       "\n",
       "    .dataframe thead th {\n",
       "        text-align: right;\n",
       "    }\n",
       "</style>\n",
       "<table border=\"1\" class=\"dataframe\">\n",
       "  <thead>\n",
       "    <tr style=\"text-align: right;\">\n",
       "      <th></th>\n",
       "      <th>Destination_State</th>\n",
       "      <th>count</th>\n",
       "      <th>2018</th>\n",
       "    </tr>\n",
       "  </thead>\n",
       "  <tbody>\n",
       "    <tr>\n",
       "      <th>0</th>\n",
       "      <td>California</td>\n",
       "      <td>845</td>\n",
       "      <td>2975083.0</td>\n",
       "    </tr>\n",
       "    <tr>\n",
       "      <th>1</th>\n",
       "      <td>New York</td>\n",
       "      <td>673</td>\n",
       "      <td>1705010.2</td>\n",
       "    </tr>\n",
       "    <tr>\n",
       "      <th>2</th>\n",
       "      <td>District of Columbia</td>\n",
       "      <td>504</td>\n",
       "      <td>138773.5</td>\n",
       "    </tr>\n",
       "    <tr>\n",
       "      <th>3</th>\n",
       "      <td>Florida</td>\n",
       "      <td>482</td>\n",
       "      <td>1050298.4</td>\n",
       "    </tr>\n",
       "    <tr>\n",
       "      <th>4</th>\n",
       "      <td>Texas</td>\n",
       "      <td>232</td>\n",
       "      <td>1795635.1</td>\n",
       "    </tr>\n",
       "    <tr>\n",
       "      <th>5</th>\n",
       "      <td>Arizona</td>\n",
       "      <td>173</td>\n",
       "      <td>350718.3</td>\n",
       "    </tr>\n",
       "    <tr>\n",
       "      <th>6</th>\n",
       "      <td>Virginia</td>\n",
       "      <td>133</td>\n",
       "      <td>533510.4</td>\n",
       "    </tr>\n",
       "    <tr>\n",
       "      <th>7</th>\n",
       "      <td>Pennsylvania</td>\n",
       "      <td>88</td>\n",
       "      <td>778374.6</td>\n",
       "    </tr>\n",
       "    <tr>\n",
       "      <th>8</th>\n",
       "      <td>Washington</td>\n",
       "      <td>77</td>\n",
       "      <td>575416.7</td>\n",
       "    </tr>\n",
       "    <tr>\n",
       "      <th>9</th>\n",
       "      <td>Missouri</td>\n",
       "      <td>76</td>\n",
       "      <td>317949.1</td>\n",
       "    </tr>\n",
       "    <tr>\n",
       "      <th>10</th>\n",
       "      <td>Tennessee</td>\n",
       "      <td>68</td>\n",
       "      <td>362737.1</td>\n",
       "    </tr>\n",
       "    <tr>\n",
       "      <th>11</th>\n",
       "      <td>North Carolina</td>\n",
       "      <td>62</td>\n",
       "      <td>567451.7</td>\n",
       "    </tr>\n",
       "    <tr>\n",
       "      <th>12</th>\n",
       "      <td>Oregon</td>\n",
       "      <td>58</td>\n",
       "      <td>241978.1</td>\n",
       "    </tr>\n",
       "    <tr>\n",
       "      <th>13</th>\n",
       "      <td>Ohio</td>\n",
       "      <td>58</td>\n",
       "      <td>675029.7</td>\n",
       "    </tr>\n",
       "    <tr>\n",
       "      <th>14</th>\n",
       "      <td>Oklahoma</td>\n",
       "      <td>57</td>\n",
       "      <td>198595.8</td>\n",
       "    </tr>\n",
       "    <tr>\n",
       "      <th>15</th>\n",
       "      <td>Nevada</td>\n",
       "      <td>56</td>\n",
       "      <td>169179.6</td>\n",
       "    </tr>\n",
       "    <tr>\n",
       "      <th>16</th>\n",
       "      <td>Utah</td>\n",
       "      <td>48</td>\n",
       "      <td>181622.7</td>\n",
       "    </tr>\n",
       "    <tr>\n",
       "      <th>17</th>\n",
       "      <td>Illinois</td>\n",
       "      <td>46</td>\n",
       "      <td>863039.5</td>\n",
       "    </tr>\n",
       "    <tr>\n",
       "      <th>18</th>\n",
       "      <td>Wisconsin</td>\n",
       "      <td>40</td>\n",
       "      <td>337553.1</td>\n",
       "    </tr>\n",
       "    <tr>\n",
       "      <th>19</th>\n",
       "      <td>Louisiana</td>\n",
       "      <td>40</td>\n",
       "      <td>253236.1</td>\n",
       "    </tr>\n",
       "    <tr>\n",
       "      <th>20</th>\n",
       "      <td>Minnesota</td>\n",
       "      <td>38</td>\n",
       "      <td>371929.7</td>\n",
       "    </tr>\n",
       "    <tr>\n",
       "      <th>21</th>\n",
       "      <td>Nebraska</td>\n",
       "      <td>36</td>\n",
       "      <td>124705.4</td>\n",
       "    </tr>\n",
       "    <tr>\n",
       "      <th>22</th>\n",
       "      <td>Kentucky</td>\n",
       "      <td>23</td>\n",
       "      <td>207849.4</td>\n",
       "    </tr>\n",
       "    <tr>\n",
       "      <th>23</th>\n",
       "      <td>Colorado</td>\n",
       "      <td>20</td>\n",
       "      <td>372452.9</td>\n",
       "    </tr>\n",
       "    <tr>\n",
       "      <th>24</th>\n",
       "      <td>Georgia</td>\n",
       "      <td>20</td>\n",
       "      <td>602023.9</td>\n",
       "    </tr>\n",
       "    <tr>\n",
       "      <th>25</th>\n",
       "      <td>Michigan</td>\n",
       "      <td>18</td>\n",
       "      <td>521803.4</td>\n",
       "    </tr>\n",
       "    <tr>\n",
       "      <th>26</th>\n",
       "      <td>Indiana</td>\n",
       "      <td>18</td>\n",
       "      <td>368424.5</td>\n",
       "    </tr>\n",
       "    <tr>\n",
       "      <th>27</th>\n",
       "      <td>South Carolina</td>\n",
       "      <td>17</td>\n",
       "      <td>235286.9</td>\n",
       "    </tr>\n",
       "    <tr>\n",
       "      <th>28</th>\n",
       "      <td>Massachusetts</td>\n",
       "      <td>15</td>\n",
       "      <td>570464.2</td>\n",
       "    </tr>\n",
       "    <tr>\n",
       "      <th>29</th>\n",
       "      <td>Maine</td>\n",
       "      <td>11</td>\n",
       "      <td>64557.0</td>\n",
       "    </tr>\n",
       "    <tr>\n",
       "      <th>30</th>\n",
       "      <td>Connecticut</td>\n",
       "      <td>8</td>\n",
       "      <td>279782.3</td>\n",
       "    </tr>\n",
       "    <tr>\n",
       "      <th>31</th>\n",
       "      <td>Iowa</td>\n",
       "      <td>8</td>\n",
       "      <td>190147.0</td>\n",
       "    </tr>\n",
       "    <tr>\n",
       "      <th>32</th>\n",
       "      <td>Kansas</td>\n",
       "      <td>7</td>\n",
       "      <td>171718.8</td>\n",
       "    </tr>\n",
       "    <tr>\n",
       "      <th>33</th>\n",
       "      <td>Arkansas</td>\n",
       "      <td>6</td>\n",
       "      <td>127761.3</td>\n",
       "    </tr>\n",
       "    <tr>\n",
       "      <th>34</th>\n",
       "      <td>South Dakota</td>\n",
       "      <td>4</td>\n",
       "      <td>53239.0</td>\n",
       "    </tr>\n",
       "  </tbody>\n",
       "</table>\n",
       "</div>"
      ],
      "text/plain": [
       "       Destination_State  count       2018\n",
       "0             California    845  2975083.0\n",
       "1               New York    673  1705010.2\n",
       "2   District of Columbia    504   138773.5\n",
       "3                Florida    482  1050298.4\n",
       "4                  Texas    232  1795635.1\n",
       "5                Arizona    173   350718.3\n",
       "6               Virginia    133   533510.4\n",
       "7           Pennsylvania     88   778374.6\n",
       "8             Washington     77   575416.7\n",
       "9               Missouri     76   317949.1\n",
       "10             Tennessee     68   362737.1\n",
       "11        North Carolina     62   567451.7\n",
       "12                Oregon     58   241978.1\n",
       "13                  Ohio     58   675029.7\n",
       "14              Oklahoma     57   198595.8\n",
       "15                Nevada     56   169179.6\n",
       "16                  Utah     48   181622.7\n",
       "17              Illinois     46   863039.5\n",
       "18             Wisconsin     40   337553.1\n",
       "19             Louisiana     40   253236.1\n",
       "20             Minnesota     38   371929.7\n",
       "21              Nebraska     36   124705.4\n",
       "22              Kentucky     23   207849.4\n",
       "23              Colorado     20   372452.9\n",
       "24               Georgia     20   602023.9\n",
       "25              Michigan     18   521803.4\n",
       "26               Indiana     18   368424.5\n",
       "27        South Carolina     17   235286.9\n",
       "28         Massachusetts     15   570464.2\n",
       "29                 Maine     11    64557.0\n",
       "30           Connecticut      8   279782.3\n",
       "31                  Iowa      8   190147.0\n",
       "32                Kansas      7   171718.8\n",
       "33              Arkansas      6   127761.3\n",
       "34          South Dakota      4    53239.0"
      ]
     },
     "execution_count": 86,
     "metadata": {},
     "output_type": "execute_result"
    }
   ],
   "source": [
    "# This is a dataframe that should be graphed\n",
    "gdp_incoming_flights = pd.merge(state_counts_2018_des, gdp_state_2018_des, on = \"Destination_State\")\n",
    "gdp_incoming_flights "
   ]
  },
  {
   "cell_type": "code",
   "execution_count": null,
   "metadata": {},
   "outputs": [],
   "source": [
    "state_counts_2018_og = pd.DataFrame(flights_2018['Origin_State'].value_counts()).reset_index()\n",
    "gdp_state_2018_og = gdp_state[['GeoName','2018']]\n",
    "gdp_state_2018_og.rename(columns={\n",
    "    'GeoName': 'Origin_State',\n",
    "}, inplace=True)\n",
    "gdp_outgoing_flights = pd.merge(state_counts_2018_og, gdp_state_2018_og, on = \"Origin_State\")\n",
    "gdp_outgoing_flights"
   ]
  },
  {
   "cell_type": "code",
   "execution_count": 91,
   "metadata": {},
   "outputs": [
    {
     "data": {
      "image/png": "[encoded data removed]",
      "text/plain": [
       "<Figure size 640x480 with 1 Axes>"
      ]
     },
     "metadata": {},
     "output_type": "display_data"
    }
   ],
   "source": [
    "# destination_counts = flights_2018['Destination_State'].value_counts()\n",
    "# destination_counts_filtered = destination_counts[destination_counts > 80].sort_values(ascending=True)\n",
    "\n",
    "# destination_counts_filtered.plot(kind='barh', color='skyblue')\n",
    "\n",
    "# plt.xlabel('Number of Flights')\n",
    "# plt.ylabel('Destination State')\n",
    "# plt.title('Number of Flights to Each State in 2018 (Min 80)')\n",
    "# plt.grid(True, alpha= 0.4)\n",
    "\n",
    "# plt.show()\n",
    "\n",
    "gdp_outgoing_flights.plot.scatter(x=\"2018\", y=\"count\")\n",
    "plt.show()\n"
   ]
  },
  {
   "cell_type": "code",
   "execution_count": 92,
   "metadata": {},
   "outputs": [
    {
     "data": {
      "image/png": "[encoded data removed]",
      "text/plain": [
       "<Figure size 640x480 with 1 Axes>"
      ]
     },
     "metadata": {},
     "output_type": "display_data"
    }
   ],
   "source": [
    "gdp_incoming_flights.plot.scatter(x=\"2018\", y=\"count\")\n",
    "plt.show()"
   ]
  },
  {
   "cell_type": "code",
   "execution_count": null,
   "metadata": {},
   "outputs": [],
   "source": []
  },
  {
   "cell_type": "markdown",
   "metadata": {},
   "source": [
    "## Geolocation Airports"
   ]
  },
  {
   "cell_type": "code",
   "execution_count": null,
   "metadata": {},
   "outputs": [],
   "source": []
  },
  {
   "cell_type": "code",
   "execution_count": null,
   "metadata": {},
   "outputs": [],
   "source": []
  },
  {
   "cell_type": "code",
   "execution_count": null,
   "metadata": {},
   "outputs": [],
   "source": []
  }
 ],
 "metadata": {
  "kernelspec": {
   "display_name": "base",
   "language": "python",
   "name": "python3"
  },
  "language_info": {
   "codemirror_mode": {
    "name": "ipython",
    "version": 3
   },
   "file_extension": ".py",
   "mimetype": "text/x-python",
   "name": "python",
   "nbconvert_exporter": "python",
   "pygments_lexer": "ipython3",
   "version": "3.12.4"
  }
 },
 "nbformat": 4,
 "nbformat_minor": 2
}
